{
 "metadata": {
  "name": "",
  "signature": "sha256:4160d689b8123d459cd47743eb989e19f55c09130dadab0b19bc043a48442d52"
 },
 "nbformat": 3,
 "nbformat_minor": 0,
 "worksheets": [
  {
   "cells": [
    {
     "cell_type": "code",
     "collapsed": false,
     "input": [
      "import pickle\n",
      "import random\n",
      "from DBZHost import DBZController, GestureClassifier, Visualizer\n",
      "import matplotlib.pyplot as plt\n",
      "%pylab inline\n",
      "\n",
      "def get_random_pose(pose_dfs_list):\n",
      "    \"\"\"\n",
      "        returns a random pose \n",
      "    \"\"\"\n",
      "    return random.choice(pose_dfs_list)\n",
      "\n",
      "\n",
      "def visualize_random_pose(self, visualizer, pose_dfs_list):\n",
      "    \"\"\"\n",
      "        visualizes a random pose \n",
      "    \"\"\"\n",
      "    pose_df = get_random_pose(pose_dfs_list)\n",
      "    viz.visualize(pose_df)"
     ],
     "language": "python",
     "metadata": {},
     "outputs": []
    }
   ],
   "metadata": {}
  }
 ]
}