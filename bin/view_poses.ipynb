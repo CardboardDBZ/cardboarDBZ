{
 "metadata": {
  "name": "",
  "signature": "sha256:b8a399f8dfcd57cf256dd12e2b38dcd9bd364138f2e79031146a82fbfca5736e"
 },
 "nbformat": 3,
 "nbformat_minor": 0,
 "worksheets": [
  {
   "cells": [
    {
     "cell_type": "code",
     "collapsed": false,
     "input": [
      "import pickle\n",
      "import random\n",
      "from DBZHost import DBZController, GestureClassifier, Visualizer\n",
      "import matplotlib.pyplot as plt\n",
      "%matplotlib inline\n",
      "\n",
      "def get_random_pose(pose_dfs_list):\n",
      "    \"\"\"\n",
      "        returns a random pose \n",
      "    \"\"\"\n",
      "    return random.choice(pose_dfs_list)\n",
      "\n",
      "\n",
      "def visualize_random_pose(visualizer, pose_dfs_list):\n",
      "    \"\"\"\n",
      "        visualizes a random pose \n",
      "    \"\"\"\n",
      "    pose_df = get_random_pose(pose_dfs_list)\n",
      "    viz.visualize(pose_df)"
     ],
     "language": "python",
     "metadata": {},
     "outputs": [],
     "prompt_number": 1
    },
    {
     "cell_type": "code",
     "collapsed": false,
     "input": [
      "gesture_classifier = GestureClassifier(data_dir='../data/')\n",
      "print '---> Loading data...'\n",
      "gesture_classifier.load_data()\n",
      "data = gesture_classifier.data\n",
      "\n",
      "#=====[ Setup Visualizer\t]=====\n",
      "viz = Visualizer()"
     ],
     "language": "python",
     "metadata": {},
     "outputs": [
      {
       "output_type": "stream",
       "stream": "stdout",
       "text": [
        "---> Loading data...\n"
       ]
      }
     ],
     "prompt_number": 2
    },
    {
     "cell_type": "markdown",
     "metadata": {},
     "source": [
      "VISUALIZE GESTURES\n",
      "=================="
     ]
    },
    {
     "cell_type": "code",
     "collapsed": false,
     "input": [
      "visualize_random_pose(viz, data['right_blast'])"
     ],
     "language": "python",
     "metadata": {},
     "outputs": []
    },
    {
     "cell_type": "code",
     "collapsed": false,
     "input": [],
     "language": "python",
     "metadata": {},
     "outputs": []
    }
   ],
   "metadata": {}
  }
 ]
}